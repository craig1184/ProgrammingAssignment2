{
  "nbformat": 4,
  "nbformat_minor": 0,
  "metadata": {
    "colab": {
      "name": "Untitled1.ipynb",
      "version": "0.3.2",
      "provenance": [],
      "include_colab_link": true
    },
    "kernelspec": {
      "name": "python3",
      "display_name": "Python 3"
    }
  },
  "cells": [
    {
      "cell_type": "markdown",
      "metadata": {
        "id": "view-in-github",
        "colab_type": "text"
      },
      "source": [
        "[View in Colaboratory](https://colab.research.google.com/github/craig1184/ProgrammingAssignment2/blob/master/Untitled1.ipynb)"
      ]
    },
    {
      "metadata": {
        "id": "yVyU7UxRAyAE",
        "colab_type": "code",
        "colab": {}
      },
      "cell_type": "code",
      "source": [
        "from sklearn import tree"
      ],
      "execution_count": 0,
      "outputs": []
    },
    {
      "metadata": {
        "id": "n6zhATHLA54u",
        "colab_type": "code",
        "colab": {}
      },
      "cell_type": "code",
      "source": [
        "X = [[181, 80], [177,70], [160,60], [154,54], [166,65], [190,90], [175,64], [177,70], [159,55], [171,75], [181,85]]\n",
        "Y = ['male', 'female', 'female', 'female', 'male', 'male', 'male', 'female', 'male', 'female', 'male']"
      ],
      "execution_count": 0,
      "outputs": []
    },
    {
      "metadata": {
        "id": "HjDmhZ5LBCPv",
        "colab_type": "code",
        "colab": {}
      },
      "cell_type": "code",
      "source": [
        "clf = tree.DecisionTreeClassifier() \n",
        "clf = clf.fit(X,Y)"
      ],
      "execution_count": 0,
      "outputs": []
    },
    {
      "metadata": {
        "id": "nlxcoWqIBN-f",
        "colab_type": "code",
        "colab": {
          "base_uri": "https://localhost:8080/",
          "height": 425
        },
        "outputId": "ea34fab2-5e2f-4de0-8aa1-e8bcfa0b15cb"
      },
      "cell_type": "code",
      "source": [
        "print(tree.export_graphviz(clf,None))"
      ],
      "execution_count": 10,
      "outputs": [
        {
          "output_type": "stream",
          "text": [
            "digraph Tree {\n",
            "node [shape=box] ;\n",
            "0 [label=\"X[1] <= 77.5\\ngini = 0.496\\nsamples = 11\\nvalue = [5, 6]\"] ;\n",
            "1 [label=\"X[1] <= 67.5\\ngini = 0.469\\nsamples = 8\\nvalue = [5, 3]\"] ;\n",
            "0 -> 1 [labeldistance=2.5, labelangle=45, headlabel=\"True\"] ;\n",
            "2 [label=\"X[1] <= 62.0\\ngini = 0.48\\nsamples = 5\\nvalue = [2, 3]\"] ;\n",
            "1 -> 2 ;\n",
            "3 [label=\"X[0] <= 156.5\\ngini = 0.444\\nsamples = 3\\nvalue = [2, 1]\"] ;\n",
            "2 -> 3 ;\n",
            "4 [label=\"gini = 0.0\\nsamples = 1\\nvalue = [1, 0]\"] ;\n",
            "3 -> 4 ;\n",
            "5 [label=\"X[0] <= 159.5\\ngini = 0.5\\nsamples = 2\\nvalue = [1, 1]\"] ;\n",
            "3 -> 5 ;\n",
            "6 [label=\"gini = 0.0\\nsamples = 1\\nvalue = [0, 1]\"] ;\n",
            "5 -> 6 ;\n",
            "7 [label=\"gini = 0.0\\nsamples = 1\\nvalue = [1, 0]\"] ;\n",
            "5 -> 7 ;\n",
            "8 [label=\"gini = 0.0\\nsamples = 2\\nvalue = [0, 2]\"] ;\n",
            "2 -> 8 ;\n",
            "9 [label=\"gini = 0.0\\nsamples = 3\\nvalue = [3, 0]\"] ;\n",
            "1 -> 9 ;\n",
            "10 [label=\"gini = 0.0\\nsamples = 3\\nvalue = [0, 3]\"] ;\n",
            "0 -> 10 [labeldistance=2.5, labelangle=-45, headlabel=\"False\"] ;\n",
            "}\n"
          ],
          "name": "stdout"
        }
      ]
    },
    {
      "metadata": {
        "id": "scXIhi-iBWQ2",
        "colab_type": "code",
        "colab": {}
      },
      "cell_type": "code",
      "source": [
        "prediction = clf.predict ([[183,76]])"
      ],
      "execution_count": 0,
      "outputs": []
    },
    {
      "metadata": {
        "id": "GAQ-iAGzB_hf",
        "colab_type": "code",
        "colab": {
          "base_uri": "https://localhost:8080/",
          "height": 34
        },
        "outputId": "47e95ccf-169d-414c-e79f-56ba68fc606f"
      },
      "cell_type": "code",
      "source": [
        "print (prediction)"
      ],
      "execution_count": 15,
      "outputs": [
        {
          "output_type": "stream",
          "text": [
            "['female']\n"
          ],
          "name": "stdout"
        }
      ]
    },
    {
      "metadata": {
        "id": "GA39FRCECBQX",
        "colab_type": "code",
        "colab": {}
      },
      "cell_type": "code",
      "source": [
        ""
      ],
      "execution_count": 0,
      "outputs": []
    }
  ]
}